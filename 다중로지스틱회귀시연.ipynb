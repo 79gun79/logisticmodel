{
  "nbformat": 4,
  "nbformat_minor": 0,
  "metadata": {
    "colab": {
      "provenance": [],
      "authorship_tag": "ABX9TyN3WwVTgAwg7MsyijISk+4e",
      "include_colab_link": true
    },
    "kernelspec": {
      "name": "python3",
      "display_name": "Python 3"
    },
    "language_info": {
      "name": "python"
    }
  },
  "cells": [
    {
      "cell_type": "markdown",
      "metadata": {
        "id": "view-in-github",
        "colab_type": "text"
      },
      "source": [
        "<a href=\"https://colab.research.google.com/github/79gun79/logisticmodel/blob/main/%EB%8B%A4%EC%A4%91%EB%A1%9C%EC%A7%80%EC%8A%A4%ED%8B%B1%ED%9A%8C%EA%B7%80%EC%8B%9C%EC%97%B0.ipynb\" target=\"_parent\"><img src=\"https://colab.research.google.com/assets/colab-badge.svg\" alt=\"Open In Colab\"/></a>"
      ]
    },
    {
      "cell_type": "markdown",
      "source": [
        "#데이터 훈련"
      ],
      "metadata": {
        "id": "cH-kckZMps-Q"
      }
    },
    {
      "cell_type": "code",
      "execution_count": 85,
      "metadata": {
        "id": "QcIW8mqEPKWw"
      },
      "outputs": [],
      "source": [
        "from tensorflow.keras.models import Sequential\n",
        "from tensorflow.keras.layers import Dense\n",
        "import numpy as np\n",
        "import pandas as pd\n",
        "import matplotlib.pyplot as plt\n",
        "from sklearn.model_selection import train_test_split"
      ]
    },
    {
      "cell_type": "code",
      "source": [
        "!git clone https://github.com/79gun79/logisticmodel.git\n",
        "df = pd.read_excel('./logisticmodel/FoodDB.xlsx')\n",
        "total_data = df[['식품명','단백질(g)','지방(g)','탄수화물(g)','판단']]"
      ],
      "metadata": {
        "id": "xX2sJTMiCX-5",
        "colab": {
          "base_uri": "https://localhost:8080/"
        },
        "outputId": "16de8c35-a750-4dcd-f4eb-956c33f36dee"
      },
      "execution_count": 86,
      "outputs": [
        {
          "output_type": "stream",
          "name": "stdout",
          "text": [
            "fatal: destination path 'logisticmodel' already exists and is not an empty directory.\n"
          ]
        }
      ]
    },
    {
      "cell_type": "code",
      "source": [
        "train_data, test_data = train_test_split(total_data, test_size = 0.25, random_state = 42)\n",
        "print('총 데이터의 개수 :',len(total_data))\n",
        "print('훈련용 데이터 개수 :', len(train_data))\n",
        "print('테스트용 데이터 개수 :', len(test_data))"
      ],
      "metadata": {
        "id": "V8LebbSOJVDR",
        "colab": {
          "base_uri": "https://localhost:8080/"
        },
        "outputId": "8706dbe4-44dc-42e8-f9ed-5c4a9b2ace49"
      },
      "execution_count": 87,
      "outputs": [
        {
          "output_type": "stream",
          "name": "stdout",
          "text": [
            "총 데이터의 개수 : 7704\n",
            "훈련용 데이터 개수 : 5778\n",
            "테스트용 데이터 개수 : 1926\n"
          ]
        }
      ]
    },
    {
      "cell_type": "code",
      "source": [
        "total_data[5:14]"
      ],
      "metadata": {
        "id": "YK35h98HJm3g",
        "colab": {
          "base_uri": "https://localhost:8080/",
          "height": 331
        },
        "outputId": "f62a917b-5b04-47be-b013-3b4450958644"
      },
      "execution_count": 88,
      "outputs": [
        {
          "output_type": "execute_result",
          "data": {
            "text/plain": [
              "        식품명    단백질(g)    지방(g)    탄수화물(g)  판단\n",
              "5      도미구이  61.10000  16.5000   2.100000   0\n",
              "6      돼지갈비  19.50000  14.4000   8.100000   0\n",
              "7      병어구이  54.60000  30.8000   0.200000   0\n",
              "8       불고기  34.40000  25.2000   7.800000   0\n",
              "9   붕장어소금구이  26.00000  16.2000  11.600000   0\n",
              "10  소양념갈비구이  60.10000  71.6000  26.200000   1\n",
              "11    양념왕갈비  27.10000  35.3000  13.700000   0\n",
              "12   양념장어구이  30.77117  30.5614   8.803709   0\n",
              "13    임연수구이  53.80000  29.4000   3.500000   0"
            ],
            "text/html": [
              "\n",
              "  <div id=\"df-10fde2c5-acc8-4297-ac5a-397f10d85132\">\n",
              "    <div class=\"colab-df-container\">\n",
              "      <div>\n",
              "<style scoped>\n",
              "    .dataframe tbody tr th:only-of-type {\n",
              "        vertical-align: middle;\n",
              "    }\n",
              "\n",
              "    .dataframe tbody tr th {\n",
              "        vertical-align: top;\n",
              "    }\n",
              "\n",
              "    .dataframe thead th {\n",
              "        text-align: right;\n",
              "    }\n",
              "</style>\n",
              "<table border=\"1\" class=\"dataframe\">\n",
              "  <thead>\n",
              "    <tr style=\"text-align: right;\">\n",
              "      <th></th>\n",
              "      <th>식품명</th>\n",
              "      <th>단백질(g)</th>\n",
              "      <th>지방(g)</th>\n",
              "      <th>탄수화물(g)</th>\n",
              "      <th>판단</th>\n",
              "    </tr>\n",
              "  </thead>\n",
              "  <tbody>\n",
              "    <tr>\n",
              "      <th>5</th>\n",
              "      <td>도미구이</td>\n",
              "      <td>61.10000</td>\n",
              "      <td>16.5000</td>\n",
              "      <td>2.100000</td>\n",
              "      <td>0</td>\n",
              "    </tr>\n",
              "    <tr>\n",
              "      <th>6</th>\n",
              "      <td>돼지갈비</td>\n",
              "      <td>19.50000</td>\n",
              "      <td>14.4000</td>\n",
              "      <td>8.100000</td>\n",
              "      <td>0</td>\n",
              "    </tr>\n",
              "    <tr>\n",
              "      <th>7</th>\n",
              "      <td>병어구이</td>\n",
              "      <td>54.60000</td>\n",
              "      <td>30.8000</td>\n",
              "      <td>0.200000</td>\n",
              "      <td>0</td>\n",
              "    </tr>\n",
              "    <tr>\n",
              "      <th>8</th>\n",
              "      <td>불고기</td>\n",
              "      <td>34.40000</td>\n",
              "      <td>25.2000</td>\n",
              "      <td>7.800000</td>\n",
              "      <td>0</td>\n",
              "    </tr>\n",
              "    <tr>\n",
              "      <th>9</th>\n",
              "      <td>붕장어소금구이</td>\n",
              "      <td>26.00000</td>\n",
              "      <td>16.2000</td>\n",
              "      <td>11.600000</td>\n",
              "      <td>0</td>\n",
              "    </tr>\n",
              "    <tr>\n",
              "      <th>10</th>\n",
              "      <td>소양념갈비구이</td>\n",
              "      <td>60.10000</td>\n",
              "      <td>71.6000</td>\n",
              "      <td>26.200000</td>\n",
              "      <td>1</td>\n",
              "    </tr>\n",
              "    <tr>\n",
              "      <th>11</th>\n",
              "      <td>양념왕갈비</td>\n",
              "      <td>27.10000</td>\n",
              "      <td>35.3000</td>\n",
              "      <td>13.700000</td>\n",
              "      <td>0</td>\n",
              "    </tr>\n",
              "    <tr>\n",
              "      <th>12</th>\n",
              "      <td>양념장어구이</td>\n",
              "      <td>30.77117</td>\n",
              "      <td>30.5614</td>\n",
              "      <td>8.803709</td>\n",
              "      <td>0</td>\n",
              "    </tr>\n",
              "    <tr>\n",
              "      <th>13</th>\n",
              "      <td>임연수구이</td>\n",
              "      <td>53.80000</td>\n",
              "      <td>29.4000</td>\n",
              "      <td>3.500000</td>\n",
              "      <td>0</td>\n",
              "    </tr>\n",
              "  </tbody>\n",
              "</table>\n",
              "</div>\n",
              "      <button class=\"colab-df-convert\" onclick=\"convertToInteractive('df-10fde2c5-acc8-4297-ac5a-397f10d85132')\"\n",
              "              title=\"Convert this dataframe to an interactive table.\"\n",
              "              style=\"display:none;\">\n",
              "        \n",
              "  <svg xmlns=\"http://www.w3.org/2000/svg\" height=\"24px\"viewBox=\"0 0 24 24\"\n",
              "       width=\"24px\">\n",
              "    <path d=\"M0 0h24v24H0V0z\" fill=\"none\"/>\n",
              "    <path d=\"M18.56 5.44l.94 2.06.94-2.06 2.06-.94-2.06-.94-.94-2.06-.94 2.06-2.06.94zm-11 1L8.5 8.5l.94-2.06 2.06-.94-2.06-.94L8.5 2.5l-.94 2.06-2.06.94zm10 10l.94 2.06.94-2.06 2.06-.94-2.06-.94-.94-2.06-.94 2.06-2.06.94z\"/><path d=\"M17.41 7.96l-1.37-1.37c-.4-.4-.92-.59-1.43-.59-.52 0-1.04.2-1.43.59L10.3 9.45l-7.72 7.72c-.78.78-.78 2.05 0 2.83L4 21.41c.39.39.9.59 1.41.59.51 0 1.02-.2 1.41-.59l7.78-7.78 2.81-2.81c.8-.78.8-2.07 0-2.86zM5.41 20L4 18.59l7.72-7.72 1.47 1.35L5.41 20z\"/>\n",
              "  </svg>\n",
              "      </button>\n",
              "      \n",
              "  <style>\n",
              "    .colab-df-container {\n",
              "      display:flex;\n",
              "      flex-wrap:wrap;\n",
              "      gap: 12px;\n",
              "    }\n",
              "\n",
              "    .colab-df-convert {\n",
              "      background-color: #E8F0FE;\n",
              "      border: none;\n",
              "      border-radius: 50%;\n",
              "      cursor: pointer;\n",
              "      display: none;\n",
              "      fill: #1967D2;\n",
              "      height: 32px;\n",
              "      padding: 0 0 0 0;\n",
              "      width: 32px;\n",
              "    }\n",
              "\n",
              "    .colab-df-convert:hover {\n",
              "      background-color: #E2EBFA;\n",
              "      box-shadow: 0px 1px 2px rgba(60, 64, 67, 0.3), 0px 1px 3px 1px rgba(60, 64, 67, 0.15);\n",
              "      fill: #174EA6;\n",
              "    }\n",
              "\n",
              "    [theme=dark] .colab-df-convert {\n",
              "      background-color: #3B4455;\n",
              "      fill: #D2E3FC;\n",
              "    }\n",
              "\n",
              "    [theme=dark] .colab-df-convert:hover {\n",
              "      background-color: #434B5C;\n",
              "      box-shadow: 0px 1px 3px 1px rgba(0, 0, 0, 0.15);\n",
              "      filter: drop-shadow(0px 1px 2px rgba(0, 0, 0, 0.3));\n",
              "      fill: #FFFFFF;\n",
              "    }\n",
              "  </style>\n",
              "\n",
              "      <script>\n",
              "        const buttonEl =\n",
              "          document.querySelector('#df-10fde2c5-acc8-4297-ac5a-397f10d85132 button.colab-df-convert');\n",
              "        buttonEl.style.display =\n",
              "          google.colab.kernel.accessAllowed ? 'block' : 'none';\n",
              "\n",
              "        async function convertToInteractive(key) {\n",
              "          const element = document.querySelector('#df-10fde2c5-acc8-4297-ac5a-397f10d85132');\n",
              "          const dataTable =\n",
              "            await google.colab.kernel.invokeFunction('convertToInteractive',\n",
              "                                                     [key], {});\n",
              "          if (!dataTable) return;\n",
              "\n",
              "          const docLinkHtml = 'Like what you see? Visit the ' +\n",
              "            '<a target=\"_blank\" href=https://colab.research.google.com/notebooks/data_table.ipynb>data table notebook</a>'\n",
              "            + ' to learn more about interactive tables.';\n",
              "          element.innerHTML = '';\n",
              "          dataTable['output_type'] = 'display_data';\n",
              "          await google.colab.output.renderOutput(dataTable, element);\n",
              "          const docLink = document.createElement('div');\n",
              "          docLink.innerHTML = docLinkHtml;\n",
              "          element.appendChild(docLink);\n",
              "        }\n",
              "      </script>\n",
              "    </div>\n",
              "  </div>\n",
              "  "
            ]
          },
          "metadata": {},
          "execution_count": 88
        }
      ]
    },
    {
      "cell_type": "code",
      "source": [
        "train_data['판단'].value_counts().plot(kind = 'bar')"
      ],
      "metadata": {
        "id": "-39iDkr4LGKx",
        "colab": {
          "base_uri": "https://localhost:8080/",
          "height": 443
        },
        "outputId": "d47ee0fa-15c4-4e01-c4f7-5baedbcd508b"
      },
      "execution_count": 89,
      "outputs": [
        {
          "output_type": "execute_result",
          "data": {
            "text/plain": [
              "<Axes: >"
            ]
          },
          "metadata": {},
          "execution_count": 89
        },
        {
          "output_type": "display_data",
          "data": {
            "text/plain": [
              "<Figure size 640x480 with 1 Axes>"
            ],
            "image/png": "[encoded data removed]"
          },
          "metadata": {}
        }
      ]
    },
    {
      "cell_type": "code",
      "source": [
        "print(train_data.groupby('판단').size().reset_index(name = '개수'))"
      ],
      "metadata": {
        "id": "WOOpIvUGLYyU",
        "colab": {
          "base_uri": "https://localhost:8080/"
        },
        "outputId": "38879ec8-1805-46b9-d879-0767f10dda09"
      },
      "execution_count": 90,
      "outputs": [
        {
          "output_type": "stream",
          "name": "stdout",
          "text": [
            "   판단    개수\n",
            "0   0  5278\n",
            "1   1   500\n"
          ]
        }
      ]
    },
    {
      "cell_type": "code",
      "source": [
        "x = train_data.iloc[:,1:4]\n",
        "y = train_data.iloc[:,4]"
      ],
      "metadata": {
        "id": "f1OBcgRxeJR_"
      },
      "execution_count": 91,
      "outputs": []
    },
    {
      "cell_type": "code",
      "source": [
        "model = Sequential()\n",
        "model.add(Dense(10,input_dim = 3, activation ='relu'))\n",
        "model.add(Dense(1,activation='sigmoid'))"
      ],
      "metadata": {
        "id": "SSGDSaWkeMQG"
      },
      "execution_count": 92,
      "outputs": []
    },
    {
      "cell_type": "code",
      "source": [
        "model.compile(optimizer='adam', loss='binary_crossentropy')"
      ],
      "metadata": {
        "id": "nbMPn2-megis"
      },
      "execution_count": 93,
      "outputs": []
    },
    {
      "cell_type": "code",
      "source": [
        "history = model.fit(x, y, epochs=20, batch_size=5)"
      ],
      "metadata": {
        "id": "t_QS4obRejRr",
        "colab": {
          "base_uri": "https://localhost:8080/"
        },
        "outputId": "1c476cf4-85ba-42a7-c8bc-4be266f9a232"
      },
      "execution_count": 94,
      "outputs": [
        {
          "output_type": "stream",
          "name": "stdout",
          "text": [
            "Epoch 1/20\n",
            "1156/1156 [==============================] - 2s 2ms/step - loss: 0.6677\n",
            "Epoch 2/20\n",
            "1156/1156 [==============================] - 3s 2ms/step - loss: 0.5152\n",
            "Epoch 3/20\n",
            "1156/1156 [==============================] - 2s 2ms/step - loss: 0.2318\n",
            "Epoch 4/20\n",
            "1156/1156 [==============================] - 2s 2ms/step - loss: 0.2226\n",
            "Epoch 5/20\n",
            "1156/1156 [==============================] - 2s 1ms/step - loss: 0.2180\n",
            "Epoch 6/20\n",
            "1156/1156 [==============================] - 2s 2ms/step - loss: 0.2160\n",
            "Epoch 7/20\n",
            "1156/1156 [==============================] - 2s 2ms/step - loss: 0.2127\n",
            "Epoch 8/20\n",
            "1156/1156 [==============================] - 2s 2ms/step - loss: 0.2122\n",
            "Epoch 9/20\n",
            "1156/1156 [==============================] - 2s 2ms/step - loss: 0.2123\n",
            "Epoch 10/20\n",
            "1156/1156 [==============================] - 2s 2ms/step - loss: 0.2129\n",
            "Epoch 11/20\n",
            "1156/1156 [==============================] - 2s 2ms/step - loss: 0.2131\n",
            "Epoch 12/20\n",
            "1156/1156 [==============================] - 2s 2ms/step - loss: 0.2118\n",
            "Epoch 13/20\n",
            "1156/1156 [==============================] - 2s 2ms/step - loss: 0.2126\n",
            "Epoch 14/20\n",
            "1156/1156 [==============================] - 2s 1ms/step - loss: 0.2108\n",
            "Epoch 15/20\n",
            "1156/1156 [==============================] - 2s 2ms/step - loss: 0.2113\n",
            "Epoch 16/20\n",
            "1156/1156 [==============================] - 2s 2ms/step - loss: 0.2130\n",
            "Epoch 17/20\n",
            "1156/1156 [==============================] - 2s 2ms/step - loss: 0.2109\n",
            "Epoch 18/20\n",
            "1156/1156 [==============================] - 2s 1ms/step - loss: 0.2118\n",
            "Epoch 19/20\n",
            "1156/1156 [==============================] - 2s 2ms/step - loss: 0.2109\n",
            "Epoch 20/20\n",
            "1156/1156 [==============================] - 2s 1ms/step - loss: 0.2108\n"
          ]
        }
      ]
    },
    {
      "cell_type": "code",
      "source": [
        "train_data"
      ],
      "metadata": {
        "id": "VTmtxRDz3iVf",
        "colab": {
          "base_uri": "https://localhost:8080/",
          "height": 423
        },
        "outputId": "3ddd16a5-9cee-4726-e52b-abba9bd47bbf"
      },
      "execution_count": 95,
      "outputs": [
        {
          "output_type": "execute_result",
          "data": {
            "text/plain": [
              "                 식품명  단백질(g)  지방(g)  탄수화물(g)  판단\n",
              "4241        치즈오븐스파게티    6.50   0.00     0.00   0\n",
              "6441   햄치즈&에그샐러드샌드위치   21.00   0.00     0.00   0\n",
              "5735             찜햇닭   21.00   0.00     0.00   0\n",
              "7259          돼지고기찌개   18.76   4.54     6.77   0\n",
              "4446  코코넛 밀크 스노우 ICE    4.00   0.00    76.00   0\n",
              "...              ...     ...    ...      ...  ..\n",
              "5226           코코넛머랭    1.00   0.00     0.00   0\n",
              "5390       바이트 추가 라지   46.93   0.00     0.00   1\n",
              "860         페퍼로니 (씬)   24.00   0.00     0.00   0\n",
              "7603        제육자글이찌개     9.00   9.00    10.00   0\n",
              "7270           쇠고기전골   23.66   9.71     1.37   0\n",
              "\n",
              "[5778 rows x 5 columns]"
            ],
            "text/html": [
              "\n",
              "  <div id=\"df-a0997b72-27c0-42fd-a127-50938496341b\">\n",
              "    <div class=\"colab-df-container\">\n",
              "      <div>\n",
              "<style scoped>\n",
              "    .dataframe tbody tr th:only-of-type {\n",
              "        vertical-align: middle;\n",
              "    }\n",
              "\n",
              "    .dataframe tbody tr th {\n",
              "        vertical-align: top;\n",
              "    }\n",
              "\n",
              "    .dataframe thead th {\n",
              "        text-align: right;\n",
              "    }\n",
              "</style>\n",
              "<table border=\"1\" class=\"dataframe\">\n",
              "  <thead>\n",
              "    <tr style=\"text-align: right;\">\n",
              "      <th></th>\n",
              "      <th>식품명</th>\n",
              "      <th>단백질(g)</th>\n",
              "      <th>지방(g)</th>\n",
              "      <th>탄수화물(g)</th>\n",
              "      <th>판단</th>\n",
              "    </tr>\n",
              "  </thead>\n",
              "  <tbody>\n",
              "    <tr>\n",
              "      <th>4241</th>\n",
              "      <td>치즈오븐스파게티</td>\n",
              "      <td>6.50</td>\n",
              "      <td>0.00</td>\n",
              "      <td>0.00</td>\n",
              "      <td>0</td>\n",
              "    </tr>\n",
              "    <tr>\n",
              "      <th>6441</th>\n",
              "      <td>햄치즈&amp;에그샐러드샌드위치</td>\n",
              "      <td>21.00</td>\n",
              "      <td>0.00</td>\n",
              "      <td>0.00</td>\n",
              "      <td>0</td>\n",
              "    </tr>\n",
              "    <tr>\n",
              "      <th>5735</th>\n",
              "      <td>찜햇닭</td>\n",
              "      <td>21.00</td>\n",
              "      <td>0.00</td>\n",
              "      <td>0.00</td>\n",
              "      <td>0</td>\n",
              "    </tr>\n",
              "    <tr>\n",
              "      <th>7259</th>\n",
              "      <td>돼지고기찌개</td>\n",
              "      <td>18.76</td>\n",
              "      <td>4.54</td>\n",
              "      <td>6.77</td>\n",
              "      <td>0</td>\n",
              "    </tr>\n",
              "    <tr>\n",
              "      <th>4446</th>\n",
              "      <td>코코넛 밀크 스노우 ICE</td>\n",
              "      <td>4.00</td>\n",
              "      <td>0.00</td>\n",
              "      <td>76.00</td>\n",
              "      <td>0</td>\n",
              "    </tr>\n",
              "    <tr>\n",
              "      <th>...</th>\n",
              "      <td>...</td>\n",
              "      <td>...</td>\n",
              "      <td>...</td>\n",
              "      <td>...</td>\n",
              "      <td>...</td>\n",
              "    </tr>\n",
              "    <tr>\n",
              "      <th>5226</th>\n",
              "      <td>코코넛머랭</td>\n",
              "      <td>1.00</td>\n",
              "      <td>0.00</td>\n",
              "      <td>0.00</td>\n",
              "      <td>0</td>\n",
              "    </tr>\n",
              "    <tr>\n",
              "      <th>5390</th>\n",
              "      <td>바이트 추가 라지</td>\n",
              "      <td>46.93</td>\n",
              "      <td>0.00</td>\n",
              "      <td>0.00</td>\n",
              "      <td>1</td>\n",
              "    </tr>\n",
              "    <tr>\n",
              "      <th>860</th>\n",
              "      <td>페퍼로니 (씬)</td>\n",
              "      <td>24.00</td>\n",
              "      <td>0.00</td>\n",
              "      <td>0.00</td>\n",
              "      <td>0</td>\n",
              "    </tr>\n",
              "    <tr>\n",
              "      <th>7603</th>\n",
              "      <td>제육자글이찌개</td>\n",
              "      <td>9.00</td>\n",
              "      <td>9.00</td>\n",
              "      <td>10.00</td>\n",
              "      <td>0</td>\n",
              "    </tr>\n",
              "    <tr>\n",
              "      <th>7270</th>\n",
              "      <td>쇠고기전골</td>\n",
              "      <td>23.66</td>\n",
              "      <td>9.71</td>\n",
              "      <td>1.37</td>\n",
              "      <td>0</td>\n",
              "    </tr>\n",
              "  </tbody>\n",
              "</table>\n",
              "<p>5778 rows × 5 columns</p>\n",
              "</div>\n",
              "      <button class=\"colab-df-convert\" onclick=\"convertToInteractive('df-a0997b72-27c0-42fd-a127-50938496341b')\"\n",
              "              title=\"Convert this dataframe to an interactive table.\"\n",
              "              style=\"display:none;\">\n",
              "        \n",
              "  <svg xmlns=\"http://www.w3.org/2000/svg\" height=\"24px\"viewBox=\"0 0 24 24\"\n",
              "       width=\"24px\">\n",
              "    <path d=\"M0 0h24v24H0V0z\" fill=\"none\"/>\n",
              "    <path d=\"M18.56 5.44l.94 2.06.94-2.06 2.06-.94-2.06-.94-.94-2.06-.94 2.06-2.06.94zm-11 1L8.5 8.5l.94-2.06 2.06-.94-2.06-.94L8.5 2.5l-.94 2.06-2.06.94zm10 10l.94 2.06.94-2.06 2.06-.94-2.06-.94-.94-2.06-.94 2.06-2.06.94z\"/><path d=\"M17.41 7.96l-1.37-1.37c-.4-.4-.92-.59-1.43-.59-.52 0-1.04.2-1.43.59L10.3 9.45l-7.72 7.72c-.78.78-.78 2.05 0 2.83L4 21.41c.39.39.9.59 1.41.59.51 0 1.02-.2 1.41-.59l7.78-7.78 2.81-2.81c.8-.78.8-2.07 0-2.86zM5.41 20L4 18.59l7.72-7.72 1.47 1.35L5.41 20z\"/>\n",
              "  </svg>\n",
              "      </button>\n",
              "      \n",
              "  <style>\n",
              "    .colab-df-container {\n",
              "      display:flex;\n",
              "      flex-wrap:wrap;\n",
              "      gap: 12px;\n",
              "    }\n",
              "\n",
              "    .colab-df-convert {\n",
              "      background-color: #E8F0FE;\n",
              "      border: none;\n",
              "      border-radius: 50%;\n",
              "      cursor: pointer;\n",
              "      display: none;\n",
              "      fill: #1967D2;\n",
              "      height: 32px;\n",
              "      padding: 0 0 0 0;\n",
              "      width: 32px;\n",
              "    }\n",
              "\n",
              "    .colab-df-convert:hover {\n",
              "      background-color: #E2EBFA;\n",
              "      box-shadow: 0px 1px 2px rgba(60, 64, 67, 0.3), 0px 1px 3px 1px rgba(60, 64, 67, 0.15);\n",
              "      fill: #174EA6;\n",
              "    }\n",
              "\n",
              "    [theme=dark] .colab-df-convert {\n",
              "      background-color: #3B4455;\n",
              "      fill: #D2E3FC;\n",
              "    }\n",
              "\n",
              "    [theme=dark] .colab-df-convert:hover {\n",
              "      background-color: #434B5C;\n",
              "      box-shadow: 0px 1px 3px 1px rgba(0, 0, 0, 0.15);\n",
              "      filter: drop-shadow(0px 1px 2px rgba(0, 0, 0, 0.3));\n",
              "      fill: #FFFFFF;\n",
              "    }\n",
              "  </style>\n",
              "\n",
              "      <script>\n",
              "        const buttonEl =\n",
              "          document.querySelector('#df-a0997b72-27c0-42fd-a127-50938496341b button.colab-df-convert');\n",
              "        buttonEl.style.display =\n",
              "          google.colab.kernel.accessAllowed ? 'block' : 'none';\n",
              "\n",
              "        async function convertToInteractive(key) {\n",
              "          const element = document.querySelector('#df-a0997b72-27c0-42fd-a127-50938496341b');\n",
              "          const dataTable =\n",
              "            await google.colab.kernel.invokeFunction('convertToInteractive',\n",
              "                                                     [key], {});\n",
              "          if (!dataTable) return;\n",
              "\n",
              "          const docLinkHtml = 'Like what you see? Visit the ' +\n",
              "            '<a target=\"_blank\" href=https://colab.research.google.com/notebooks/data_table.ipynb>data table notebook</a>'\n",
              "            + ' to learn more about interactive tables.';\n",
              "          element.innerHTML = '';\n",
              "          dataTable['output_type'] = 'display_data';\n",
              "          await google.colab.output.renderOutput(dataTable, element);\n",
              "          const docLink = document.createElement('div');\n",
              "          docLink.innerHTML = docLinkHtml;\n",
              "          element.appendChild(docLink);\n",
              "        }\n",
              "      </script>\n",
              "    </div>\n",
              "  </div>\n",
              "  "
            ]
          },
          "metadata": {},
          "execution_count": 95
        }
      ]
    },
    {
      "cell_type": "code",
      "source": [
        "test_data"
      ],
      "metadata": {
        "id": "40AbfzK4MAa4",
        "colab": {
          "base_uri": "https://localhost:8080/",
          "height": 423
        },
        "outputId": "7b31c68b-52c4-41f0-bd49-87e5404f4239"
      },
      "execution_count": 96,
      "outputs": [
        {
          "output_type": "execute_result",
          "data": {
            "text/plain": [
              "                    식품명  단백질(g)  지방(g)  탄수화물(g)  판단\n",
              "2225             오렌지자몽티    2.00    0.0      0.0   0\n",
              "1839  그린 티 탐앤치노 grande     6.36   10.3     71.6   0\n",
              "7648            수제비 떡볶이    8.00    4.4     42.0   0\n",
              "2572          클램 차우더 스프    4.00    0.0      0.0   0\n",
              "2226             고구마 라떼   16.00    0.0      0.0   0\n",
              "...                 ...     ...    ...      ...  ..\n",
              "7430               감자튀김    3.00    8.0     34.0   0\n",
              "2069       깔라만시 팝핑에이드 L    0.50    0.0      0.0   0\n",
              "1433         딸기 생크림 오믈렛    1.00    0.0      0.0   0\n",
              "5078       촉촉하고부드러운초코쉬폰    4.00    0.0      0.0   0\n",
              "6539      띠띠뽀띠띠뽀 휭거마드레느   17.00    0.0      0.0   1\n",
              "\n",
              "[1926 rows x 5 columns]"
            ],
            "text/html": [
              "\n",
              "  <div id=\"df-25d359b5-d1ea-4276-a3d7-a7f8d13a0760\">\n",
              "    <div class=\"colab-df-container\">\n",
              "      <div>\n",
              "<style scoped>\n",
              "    .dataframe tbody tr th:only-of-type {\n",
              "        vertical-align: middle;\n",
              "    }\n",
              "\n",
              "    .dataframe tbody tr th {\n",
              "        vertical-align: top;\n",
              "    }\n",
              "\n",
              "    .dataframe thead th {\n",
              "        text-align: right;\n",
              "    }\n",
              "</style>\n",
              "<table border=\"1\" class=\"dataframe\">\n",
              "  <thead>\n",
              "    <tr style=\"text-align: right;\">\n",
              "      <th></th>\n",
              "      <th>식품명</th>\n",
              "      <th>단백질(g)</th>\n",
              "      <th>지방(g)</th>\n",
              "      <th>탄수화물(g)</th>\n",
              "      <th>판단</th>\n",
              "    </tr>\n",
              "  </thead>\n",
              "  <tbody>\n",
              "    <tr>\n",
              "      <th>2225</th>\n",
              "      <td>오렌지자몽티</td>\n",
              "      <td>2.00</td>\n",
              "      <td>0.0</td>\n",
              "      <td>0.0</td>\n",
              "      <td>0</td>\n",
              "    </tr>\n",
              "    <tr>\n",
              "      <th>1839</th>\n",
              "      <td>그린 티 탐앤치노 grande</td>\n",
              "      <td>6.36</td>\n",
              "      <td>10.3</td>\n",
              "      <td>71.6</td>\n",
              "      <td>0</td>\n",
              "    </tr>\n",
              "    <tr>\n",
              "      <th>7648</th>\n",
              "      <td>수제비 떡볶이</td>\n",
              "      <td>8.00</td>\n",
              "      <td>4.4</td>\n",
              "      <td>42.0</td>\n",
              "      <td>0</td>\n",
              "    </tr>\n",
              "    <tr>\n",
              "      <th>2572</th>\n",
              "      <td>클램 차우더 스프</td>\n",
              "      <td>4.00</td>\n",
              "      <td>0.0</td>\n",
              "      <td>0.0</td>\n",
              "      <td>0</td>\n",
              "    </tr>\n",
              "    <tr>\n",
              "      <th>2226</th>\n",
              "      <td>고구마 라떼</td>\n",
              "      <td>16.00</td>\n",
              "      <td>0.0</td>\n",
              "      <td>0.0</td>\n",
              "      <td>0</td>\n",
              "    </tr>\n",
              "    <tr>\n",
              "      <th>...</th>\n",
              "      <td>...</td>\n",
              "      <td>...</td>\n",
              "      <td>...</td>\n",
              "      <td>...</td>\n",
              "      <td>...</td>\n",
              "    </tr>\n",
              "    <tr>\n",
              "      <th>7430</th>\n",
              "      <td>감자튀김</td>\n",
              "      <td>3.00</td>\n",
              "      <td>8.0</td>\n",
              "      <td>34.0</td>\n",
              "      <td>0</td>\n",
              "    </tr>\n",
              "    <tr>\n",
              "      <th>2069</th>\n",
              "      <td>깔라만시 팝핑에이드 L</td>\n",
              "      <td>0.50</td>\n",
              "      <td>0.0</td>\n",
              "      <td>0.0</td>\n",
              "      <td>0</td>\n",
              "    </tr>\n",
              "    <tr>\n",
              "      <th>1433</th>\n",
              "      <td>딸기 생크림 오믈렛</td>\n",
              "      <td>1.00</td>\n",
              "      <td>0.0</td>\n",
              "      <td>0.0</td>\n",
              "      <td>0</td>\n",
              "    </tr>\n",
              "    <tr>\n",
              "      <th>5078</th>\n",
              "      <td>촉촉하고부드러운초코쉬폰</td>\n",
              "      <td>4.00</td>\n",
              "      <td>0.0</td>\n",
              "      <td>0.0</td>\n",
              "      <td>0</td>\n",
              "    </tr>\n",
              "    <tr>\n",
              "      <th>6539</th>\n",
              "      <td>띠띠뽀띠띠뽀 휭거마드레느</td>\n",
              "      <td>17.00</td>\n",
              "      <td>0.0</td>\n",
              "      <td>0.0</td>\n",
              "      <td>1</td>\n",
              "    </tr>\n",
              "  </tbody>\n",
              "</table>\n",
              "<p>1926 rows × 5 columns</p>\n",
              "</div>\n",
              "      <button class=\"colab-df-convert\" onclick=\"convertToInteractive('df-25d359b5-d1ea-4276-a3d7-a7f8d13a0760')\"\n",
              "              title=\"Convert this dataframe to an interactive table.\"\n",
              "              style=\"display:none;\">\n",
              "        \n",
              "  <svg xmlns=\"http://www.w3.org/2000/svg\" height=\"24px\"viewBox=\"0 0 24 24\"\n",
              "       width=\"24px\">\n",
              "    <path d=\"M0 0h24v24H0V0z\" fill=\"none\"/>\n",
              "    <path d=\"M18.56 5.44l.94 2.06.94-2.06 2.06-.94-2.06-.94-.94-2.06-.94 2.06-2.06.94zm-11 1L8.5 8.5l.94-2.06 2.06-.94-2.06-.94L8.5 2.5l-.94 2.06-2.06.94zm10 10l.94 2.06.94-2.06 2.06-.94-2.06-.94-.94-2.06-.94 2.06-2.06.94z\"/><path d=\"M17.41 7.96l-1.37-1.37c-.4-.4-.92-.59-1.43-.59-.52 0-1.04.2-1.43.59L10.3 9.45l-7.72 7.72c-.78.78-.78 2.05 0 2.83L4 21.41c.39.39.9.59 1.41.59.51 0 1.02-.2 1.41-.59l7.78-7.78 2.81-2.81c.8-.78.8-2.07 0-2.86zM5.41 20L4 18.59l7.72-7.72 1.47 1.35L5.41 20z\"/>\n",
              "  </svg>\n",
              "      </button>\n",
              "      \n",
              "  <style>\n",
              "    .colab-df-container {\n",
              "      display:flex;\n",
              "      flex-wrap:wrap;\n",
              "      gap: 12px;\n",
              "    }\n",
              "\n",
              "    .colab-df-convert {\n",
              "      background-color: #E8F0FE;\n",
              "      border: none;\n",
              "      border-radius: 50%;\n",
              "      cursor: pointer;\n",
              "      display: none;\n",
              "      fill: #1967D2;\n",
              "      height: 32px;\n",
              "      padding: 0 0 0 0;\n",
              "      width: 32px;\n",
              "    }\n",
              "\n",
              "    .colab-df-convert:hover {\n",
              "      background-color: #E2EBFA;\n",
              "      box-shadow: 0px 1px 2px rgba(60, 64, 67, 0.3), 0px 1px 3px 1px rgba(60, 64, 67, 0.15);\n",
              "      fill: #174EA6;\n",
              "    }\n",
              "\n",
              "    [theme=dark] .colab-df-convert {\n",
              "      background-color: #3B4455;\n",
              "      fill: #D2E3FC;\n",
              "    }\n",
              "\n",
              "    [theme=dark] .colab-df-convert:hover {\n",
              "      background-color: #434B5C;\n",
              "      box-shadow: 0px 1px 3px 1px rgba(0, 0, 0, 0.15);\n",
              "      filter: drop-shadow(0px 1px 2px rgba(0, 0, 0, 0.3));\n",
              "      fill: #FFFFFF;\n",
              "    }\n",
              "  </style>\n",
              "\n",
              "      <script>\n",
              "        const buttonEl =\n",
              "          document.querySelector('#df-25d359b5-d1ea-4276-a3d7-a7f8d13a0760 button.colab-df-convert');\n",
              "        buttonEl.style.display =\n",
              "          google.colab.kernel.accessAllowed ? 'block' : 'none';\n",
              "\n",
              "        async function convertToInteractive(key) {\n",
              "          const element = document.querySelector('#df-25d359b5-d1ea-4276-a3d7-a7f8d13a0760');\n",
              "          const dataTable =\n",
              "            await google.colab.kernel.invokeFunction('convertToInteractive',\n",
              "                                                     [key], {});\n",
              "          if (!dataTable) return;\n",
              "\n",
              "          const docLinkHtml = 'Like what you see? Visit the ' +\n",
              "            '<a target=\"_blank\" href=https://colab.research.google.com/notebooks/data_table.ipynb>data table notebook</a>'\n",
              "            + ' to learn more about interactive tables.';\n",
              "          element.innerHTML = '';\n",
              "          dataTable['output_type'] = 'display_data';\n",
              "          await google.colab.output.renderOutput(dataTable, element);\n",
              "          const docLink = document.createElement('div');\n",
              "          docLink.innerHTML = docLinkHtml;\n",
              "          element.appendChild(docLink);\n",
              "        }\n",
              "      </script>\n",
              "    </div>\n",
              "  </div>\n",
              "  "
            ]
          },
          "metadata": {},
          "execution_count": 96
        }
      ]
    },
    {
      "cell_type": "markdown",
      "source": [
        "#데이터 테스트"
      ],
      "metadata": {
        "id": "RZ6wvZOFp0Wo"
      }
    },
    {
      "cell_type": "markdown",
      "source": [
        "###임의의 데이터 생성 후, 테스트"
      ],
      "metadata": {
        "id": "STsngVlZNGQ5"
      }
    },
    {
      "cell_type": "code",
      "source": [
        "t1 = np.array([[74.6,35.7,23.4]])\n",
        "prediction = model.predict(t1)\n",
        "print(\"권장 칼로리 초과 예상 확률은 %.1f%%입니다.\" % (prediction *100))"
      ],
      "metadata": {
        "id": "EQ45WAZYpsHz",
        "colab": {
          "base_uri": "https://localhost:8080/"
        },
        "outputId": "2b6e2518-5d36-439e-ec53-3abc9eb96a7e"
      },
      "execution_count": 97,
      "outputs": [
        {
          "output_type": "stream",
          "name": "stdout",
          "text": [
            "1/1 [==============================] - 0s 49ms/step\n",
            "권장 칼로리 초과 예상 확률은 60.8%입니다.\n"
          ]
        }
      ]
    },
    {
      "cell_type": "markdown",
      "source": [
        "###테스트 데이터에서 하나 선택 후, 테스트"
      ],
      "metadata": {
        "id": "_yyN_qKVNNSQ"
      }
    },
    {
      "cell_type": "code",
      "source": [
        "t2 = test_data.iloc[:1, 1:4].values\n",
        "predictions = model.predict(t2)\n",
        "print(test_data.iloc[:1, 0].values,\"권장 칼로리 초과 예상 확률은 %.1f%%입니다.\" % (predictions *100))"
      ],
      "metadata": {
        "id": "VqqpJ8Mzsfrv",
        "colab": {
          "base_uri": "https://localhost:8080/"
        },
        "outputId": "85ec1efe-6654-4a2c-82ec-0a8ae214f421"
      },
      "execution_count": 98,
      "outputs": [
        {
          "output_type": "stream",
          "name": "stdout",
          "text": [
            "1/1 [==============================] - 0s 21ms/step\n",
            "['오렌지자몽티'] 권장 칼로리 초과 예상 확률은 0.9%입니다.\n"
          ]
        }
      ]
    },
    {
      "cell_type": "code",
      "source": [
        "t2"
      ],
      "metadata": {
        "id": "KXJgcuIpPPmn",
        "colab": {
          "base_uri": "https://localhost:8080/"
        },
        "outputId": "f97c24ae-86b2-49b2-9f08-8fd31b57b44d"
      },
      "execution_count": 99,
      "outputs": [
        {
          "output_type": "execute_result",
          "data": {
            "text/plain": [
              "array([[2., 0., 0.]])"
            ]
          },
          "metadata": {},
          "execution_count": 99
        }
      ]
    }
  ]
}