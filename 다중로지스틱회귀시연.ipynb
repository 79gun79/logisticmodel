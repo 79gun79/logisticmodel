{
  "nbformat": 4,
  "nbformat_minor": 0,
  "metadata": {
    "colab": {
      "provenance": [],
      "authorship_tag": "ABX9TyPnbq24/+JRfzrsFiFY4Ysr",
      "include_colab_link": true
    },
    "kernelspec": {
      "name": "python3",
      "display_name": "Python 3"
    },
    "language_info": {
      "name": "python"
    }
  },
  "cells": [
    {
      "cell_type": "markdown",
      "metadata": {
        "id": "view-in-github",
        "colab_type": "text"
      },
      "source": [
        "<a href=\"https://colab.research.google.com/github/79gun79/logisticmodel/blob/main/%EB%8B%A4%EC%A4%91%EB%A1%9C%EC%A7%80%EC%8A%A4%ED%8B%B1%ED%9A%8C%EA%B7%80%EC%8B%9C%EC%97%B0.ipynb\" target=\"_parent\"><img src=\"https://colab.research.google.com/assets/colab-badge.svg\" alt=\"Open In Colab\"/></a>"
      ]
    },
    {
      "cell_type": "markdown",
      "source": [
        "#데이터 훈련"
      ],
      "metadata": {
        "id": "cH-kckZMps-Q"
      }
    },
    {
      "cell_type": "code",
      "execution_count": 100,
      "metadata": {
        "id": "QcIW8mqEPKWw"
      },
      "outputs": [],
      "source": [
        "from tensorflow.keras.models import Sequential\n",
        "from tensorflow.keras.layers import Dense\n",
        "import numpy as np\n",
        "import pandas as pd\n",
        "import matplotlib.pyplot as plt\n",
        "from sklearn.model_selection import train_test_split"
      ]
    },
    {
      "cell_type": "code",
      "source": [
        "!git clone https://github.com/79gun79/logisticmodel.git\n",
        "df = pd.read_excel('./logisticmodel/FoodDB.xlsx')\n",
        "total_data = df[['식품명','단백질(g)','지방(g)','탄수화물(g)','판단']]"
      ],
      "metadata": {
        "id": "xX2sJTMiCX-5"
      },
      "execution_count": null,
      "outputs": []
    },
    {
      "cell_type": "code",
      "source": [
        "train_data, test_data = train_test_split(total_data, test_size = 0.25, random_state = 42)\n",
        "print('총 데이터의 개수 :',len(total_data))\n",
        "print('훈련용 데이터 개수 :', len(train_data))\n",
        "print('테스트용 데이터 개수 :', len(test_data))"
      ],
      "metadata": {
        "id": "V8LebbSOJVDR"
      },
      "execution_count": null,
      "outputs": []
    },
    {
      "cell_type": "code",
      "source": [
        "total_data[5:14]"
      ],
      "metadata": {
        "id": "YK35h98HJm3g"
      },
      "execution_count": null,
      "outputs": []
    },
    {
      "cell_type": "code",
      "source": [
        "train_data['판단'].value_counts().plot(kind = 'bar')"
      ],
      "metadata": {
        "id": "-39iDkr4LGKx"
      },
      "execution_count": null,
      "outputs": []
    },
    {
      "cell_type": "code",
      "source": [
        "print(train_data.groupby('판단').size().reset_index(name = '개수'))"
      ],
      "metadata": {
        "id": "WOOpIvUGLYyU"
      },
      "execution_count": null,
      "outputs": []
    },
    {
      "cell_type": "code",
      "source": [
        "x = train_data.iloc[:,1:4]\n",
        "y = train_data.iloc[:,4]"
      ],
      "metadata": {
        "id": "f1OBcgRxeJR_"
      },
      "execution_count": 106,
      "outputs": []
    },
    {
      "cell_type": "code",
      "source": [
        "model = Sequential()\n",
        "model.add(Dense(10,input_dim = 3, activation ='relu'))\n",
        "model.add(Dense(1,activation='sigmoid'))"
      ],
      "metadata": {
        "id": "SSGDSaWkeMQG"
      },
      "execution_count": 107,
      "outputs": []
    },
    {
      "cell_type": "code",
      "source": [
        "model.compile(optimizer='adam', loss='binary_crossentropy')"
      ],
      "metadata": {
        "id": "nbMPn2-megis"
      },
      "execution_count": 108,
      "outputs": []
    },
    {
      "cell_type": "code",
      "source": [
        "history = model.fit(x, y, epochs=20, batch_size=5)"
      ],
      "metadata": {
        "id": "t_QS4obRejRr"
      },
      "execution_count": null,
      "outputs": []
    },
    {
      "cell_type": "code",
      "source": [
        "train_data"
      ],
      "metadata": {
        "id": "VTmtxRDz3iVf"
      },
      "execution_count": null,
      "outputs": []
    },
    {
      "cell_type": "code",
      "source": [
        "test_data"
      ],
      "metadata": {
        "id": "40AbfzK4MAa4"
      },
      "execution_count": null,
      "outputs": []
    },
    {
      "cell_type": "markdown",
      "source": [
        "#데이터 테스트"
      ],
      "metadata": {
        "id": "RZ6wvZOFp0Wo"
      }
    },
    {
      "cell_type": "markdown",
      "source": [
        "###임의의 데이터 생성 후, 테스트"
      ],
      "metadata": {
        "id": "STsngVlZNGQ5"
      }
    },
    {
      "cell_type": "code",
      "source": [
        "t1 = np.array([[74.6,35.7,23.4]])\n",
        "prediction = model.predict(t1)\n",
        "print(\"권장 칼로리 초과 예상 확률은 %.1f%%입니다.\" % (prediction *100))"
      ],
      "metadata": {
        "id": "EQ45WAZYpsHz"
      },
      "execution_count": null,
      "outputs": []
    },
    {
      "cell_type": "markdown",
      "source": [
        "###테스트 데이터에서 하나 선택 후, 테스트"
      ],
      "metadata": {
        "id": "_yyN_qKVNNSQ"
      }
    },
    {
      "cell_type": "code",
      "source": [
        "t2 = test_data.iloc[21:22, 1:4].values\n",
        "predictions = model.predict(t2)\n",
        "print(test_data.iloc[21:22, 0].values,\"권장 칼로리 초과 예상 확률은 %.1f%%입니다.\" % (predictions *100))"
      ],
      "metadata": {
        "id": "VqqpJ8Mzsfrv"
      },
      "execution_count": null,
      "outputs": []
    },
    {
      "cell_type": "code",
      "source": [
        "t2"
      ],
      "metadata": {
        "id": "KXJgcuIpPPmn"
      },
      "execution_count": null,
      "outputs": []
    }
  ]
}